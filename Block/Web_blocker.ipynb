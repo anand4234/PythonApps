{
 "cells": [
  {
   "cell_type": "code",
   "execution_count": null,
   "metadata": {},
   "outputs": [],
   "source": [
    "from datetime import datetime as dt\n",
    "import time"
   ]
  },
  {
   "cell_type": "code",
   "execution_count": null,
   "metadata": {},
   "outputs": [],
   "source": [
    "web_lists =['www.facebook.com', 'www.youtube.com']\n",
    "redirect = '127.0.0.1'\n",
    "host_source= \"hosts\""
   ]
  },
  {
   "cell_type": "code",
   "execution_count": null,
   "metadata": {},
   "outputs": [],
   "source": [
    "while True:\n",
    "    if dt(dt.now().year, dt.now().month, dt.now().day, 8) < dt.now() < dt(dt.now().year, dt.now().month, dt.now().day, 10):\n",
    "        print(\"working...\")\n",
    "        with open(host_source, 'r+') as file:\n",
    "            content = file.read()\n",
    "            for item in web_lists:\n",
    "                if item in content:\n",
    "                    pass\n",
    "                else:\n",
    "                    file.write(redirect + \" \" + item +'\\n')\n",
    "    else:\n",
    "        print(\"Fun time...\")\n",
    "        with open(host_source, 'r+') as file:\n",
    "            content = file.readlines()\n",
    "            for line in content:\n",
    "                if line in for list in web_lists: \n",
    "                        \n",
    "            print(content)\n",
    "    time.sleep(5)"
   ]
  },
  {
   "cell_type": "code",
   "execution_count": null,
   "metadata": {},
   "outputs": [],
   "source": []
  },
  {
   "cell_type": "code",
   "execution_count": null,
   "metadata": {},
   "outputs": [],
   "source": []
  },
  {
   "cell_type": "code",
   "execution_count": null,
   "metadata": {},
   "outputs": [],
   "source": []
  },
  {
   "cell_type": "code",
   "execution_count": null,
   "metadata": {},
   "outputs": [],
   "source": []
  }
 ],
 "metadata": {
  "kernelspec": {
   "display_name": "Python 3",
   "language": "python",
   "name": "python3"
  },
  "language_info": {
   "codemirror_mode": {
    "name": "ipython",
    "version": 3
   },
   "file_extension": ".py",
   "mimetype": "text/x-python",
   "name": "python",
   "nbconvert_exporter": "python",
   "pygments_lexer": "ipython3",
   "version": "3.8.2"
  }
 },
 "nbformat": 4,
 "nbformat_minor": 4
}
